{
 "cells": [
  {
   "cell_type": "code",
   "execution_count": null,
   "id": "7ae0b3bf-14d3-420a-8fb0-94b671446418",
   "metadata": {},
   "outputs": [],
   "source": []
  }
 ],
 "metadata": {
  "kernelspec": {
   "display_name": "",
   "name": ""
  },
  "language_info": {
   "name": ""
  }
 },
 "nbformat": 4,
 "nbformat_minor": 5
}
